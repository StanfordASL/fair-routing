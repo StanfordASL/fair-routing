{
 "cells": [
  {
   "cell_type": "code",
   "execution_count": 1,
   "metadata": {},
   "outputs": [],
   "source": [
    "#Import relevant modules\n",
    "import numpy as np"
   ]
  },
  {
   "cell_type": "code",
   "execution_count": 2,
   "metadata": {},
   "outputs": [],
   "source": [
    "#Input data: edge by edge flows as a vector\n",
    "num_edges = 100\n",
    "\n",
    "#Store the UE and SO solutions\n",
    "x_UE_sol = 2*np.ones((1, num_edges))\n",
    "y_SO_sol = np.ones((1, num_edges))\n",
    "\n",
    "#Define the link latency functions\n",
    "def f_j(num_people):\n",
    "    '''Calculates latency of link'''\n",
    "    return num_people*10\n",
    "\n",
    "#Calculate for each value of alpha the corresponding travel time\n",
    "total_tt = []\n",
    "alpha_vals = np.linspace(0, 1, 100)\n",
    "for i in alpha_vals:\n",
    "    convex_comb = i*x_UE_sol + (1-i)*y_SO_sol\n",
    "    total_tt_alpha = sum([j*f_j(j) for j in convex_comb][0])\n",
    "    total_tt.append(total_tt_alpha)"
   ]
  },
  {
   "cell_type": "code",
   "execution_count": 23,
   "metadata": {},
   "outputs": [],
   "source": [
    "def get_travel_time(sol_implement):\n",
    "    '''Find the total travel time in a given network'''\n",
    "    \n",
    "    return sum([j*f_j(j) for j in sol_implement][0])\n",
    "\n",
    "def beta_calc(OD_dict, convex_comb):\n",
    "    '''Calculate beta for a given alpha value'''\n",
    "    \n",
    "    beta_val = []\n",
    "    for OD_pair in OD_dict:\n",
    "        path_OD = []\n",
    "        for path in OD_dict[OD_pair]:\n",
    "            path_tt = 0\n",
    "            for edge in path:\n",
    "                path_tt += convex_comb[0][edge]\n",
    "\n",
    "            path_OD.append(path_tt)\n",
    "\n",
    "        #Store max and min paths per OD pair\n",
    "        path_OD_max = max(path_OD)\n",
    "        path_OD_min = min(path_OD)\n",
    "\n",
    "        #Find ratio of max and min\n",
    "        path_OD_beta = path_OD_max/path_OD_min\n",
    "        beta_val.append(path_OD_beta)\n",
    "\n",
    "    #Find maximum value of beta for this value of alpha\n",
    "    beta = max(beta_val)\n",
    "    \n",
    "    return beta\n",
    "\n",
    "def dict_union(dict_UE, dict_SO):\n",
    "    '''Find the union of two dictionaries'''\n",
    "    dict_total = dict_UE\n",
    "    for OD_pair in dict_SO:\n",
    "        a = dict_total[OD_pair]\n",
    "        for j in dict_SO[OD_pair]:\n",
    "            if j not in dict_UE[OD_pair]:\n",
    "                a.append(j)\n",
    "                \n",
    "        dict_total[OD_pair] = a\n",
    "        \n",
    "    return dict_total"
   ]
  },
  {
   "cell_type": "code",
   "execution_count": 25,
   "metadata": {},
   "outputs": [],
   "source": [
    "#Input Data on vector of edges for each path for each OD pair\n",
    "OD_dict_UE = {1: [[1, 2, 5], [1, 3, 5]], 2: [[4, 2, 5], [3, 2, 5]]}\n",
    "OD_dict_SO = {1: [[1, 2, 5], [1, 4, 5]], 2: [[4, 2, 5], [3, 4, 5]]}\n",
    "\n",
    "#Take the union of the two dictionaries to find total set of OD pairs\n",
    "OD_dict = dict_union(OD_dict_UE, OD_dict_SO)\n",
    "\n",
    "#Calculate for each value of alpha the corresponding travel time\n",
    "total_tt = []\n",
    "beta_alpha = []\n",
    "alpha_vals = np.linspace(0, 1, 100)\n",
    "for i in alpha_vals:\n",
    "    convex_comb = i*x_UE_sol + (1-i)*y_SO_sol\n",
    "    total_tt_alpha = get_travel_time(convex_comb)\n",
    "    total_tt.append(total_tt_alpha)\n",
    "    \n",
    "    #If at extremes then calculate beta according to UE and SO solutions respectively\n",
    "    if i == 0:\n",
    "        beta = beta_calc(OD_dict_SO, convex_comb)\n",
    "    elif i == 1:\n",
    "        beta = beta_calc(OD_dict_UE, convex_comb)\n",
    "    else:\n",
    "        beta = beta_calc(OD_dict, convex_comb)\n",
    "    \n",
    "    beta_alpha.append(beta)"
   ]
  },
  {
   "cell_type": "code",
   "execution_count": 27,
   "metadata": {},
   "outputs": [
    {
     "data": {
      "text/plain": [
       "Text(0, 0.5, '$\\\\beta$')"
      ]
     },
     "execution_count": 27,
     "metadata": {},
     "output_type": "execute_result"
    },
    {
     "data": {
      "image/png": "[encoded data removed]",
      "text/plain": [
       "<Figure size 432x288 with 1 Axes>"
      ]
     },
     "metadata": {
      "needs_background": "light"
     },
     "output_type": "display_data"
    }
   ],
   "source": [
    "import matplotlib.pyplot as plt\n",
    "\n",
    "plt.plot(alpha_vals, beta_alpha)\n",
    "plt.xlabel(r'$\\alpha$')\n",
    "plt.ylabel(r'$\\beta$')"
   ]
  },
  {
   "cell_type": "code",
   "execution_count": null,
   "metadata": {},
   "outputs": [],
   "source": []
  }
 ],
 "metadata": {
  "kernelspec": {
   "display_name": "Python 3",
   "language": "python",
   "name": "python3"
  },
  "language_info": {
   "codemirror_mode": {
    "name": "ipython",
    "version": 3
   },
   "file_extension": ".py",
   "mimetype": "text/x-python",
   "name": "python",
   "nbconvert_exporter": "python",
   "pygments_lexer": "ipython3",
   "version": "3.7.3"
  }
 },
 "nbformat": 4,
 "nbformat_minor": 2
}
