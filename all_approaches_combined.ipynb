{
 "cells": [
  {
   "cell_type": "code",
   "execution_count": null,
   "metadata": {},
   "outputs": [],
   "source": [
    "#Import relevant modules\n",
    "import numpy as np\n",
    "import pandas as pd\n",
    "import zipfile\n",
    "from solution_implementation import SolutionImplementations\n",
    "import matplotlib.pyplot as plt"
   ]
  },
  {
   "cell_type": "code",
   "execution_count": null,
   "metadata": {},
   "outputs": [],
   "source": [
    "list_cities = ['Tiergarten', 'Friedrichshain', 'Anaheim', 'Massachusetts', 'SiouxFalls', 'PrenzlauerbergCenter']\n",
    "percentile_val = 98"
   ]
  },
  {
   "cell_type": "markdown",
   "metadata": {},
   "source": [
    "### Implement All Methods"
   ]
  },
  {
   "cell_type": "code",
   "execution_count": null,
   "metadata": {
    "scrolled": true
   },
   "outputs": [],
   "source": [
    "# Solve Jahn_et_al\n",
    "final_beta_2005_dict, total_cost_2005_dict, percentile_beta_2005_dict = SolutionImplementations.Jahn_Et_Al(list_cities, percentile_val)\n",
    "\n",
    "#Solve I-TAP 0.01 Discretization\n",
    "final_beta_dict, total_cost_dict, percentile_beta_dict, final_beta_original_dict, total_cost_original_dict = SolutionImplementations.ITAP_001(list_cities, percentile_val)\n",
    "\n",
    "#Solve I-TAP 0.05 Discretization\n",
    "final_beta_dict_05, total_cost_dict_05, percentile_beta_dict_05 = SolutionImplementations.ITAP_005(list_cities, percentile_val)\n",
    "\n",
    "#Solve I-Solution 0.01 Discretization\n",
    "beta_alpha_solution_dict, total_tt_solution_dict, beta_alpha_dist_solution_dict = SolutionImplementations.ISolution_001(list_cities, percentile_val)"
   ]
  },
  {
   "cell_type": "markdown",
   "metadata": {},
   "source": [
    "### Plots"
   ]
  },
  {
   "cell_type": "markdown",
   "metadata": {},
   "source": [
    "#### Pareto Plot"
   ]
  },
  {
   "cell_type": "code",
   "execution_count": null,
   "metadata": {},
   "outputs": [],
   "source": [
    "fig = plt.figure(figsize=(10, 10))\n",
    "ax = fig.add_subplot(231)\n",
    "ax.plot(final_beta_dict['Massachusetts'], total_cost_dict['Massachusetts']/total_cost_dict['Massachusetts'][-1])\n",
    "ax.plot(final_beta_dict_05['Massachusetts'], total_cost_dict_05['Massachusetts']/total_cost_dict_05['Massachusetts'][-1])\n",
    "ax.plot(beta_alpha_solution_dict['Massachusetts'], total_tt_solution_dict['Massachusetts']/total_tt_solution_dict['Massachusetts'][0])\n",
    "ax.plot(final_beta_2005_dict['Massachusetts'], total_cost_2005_dict['Massachusetts']/total_cost_2005_dict['Massachusetts'][-1])\n",
    "ax.set_xlabel('Loaded Unfairness')\n",
    "ax.set_ylabel(r'Inefficiency Ratio $\\rho(\\mathbf{z}(\\alpha))$')\n",
    "ax.legend(['I-TAP-0.01', 'I-TAP-0.05', 'I-Solution', 'Jahn et al.'])\n",
    "ax.set_title('Massachusetts')\n",
    "ax.set_ylim([0.995, 1.1])\n",
    "\n",
    "ax2 = fig.add_subplot(232)\n",
    "ax2.plot(final_beta_dict['Tiergarten'], total_cost_dict['Tiergarten']/total_cost_dict['Tiergarten'][-1])\n",
    "ax2.plot(final_beta_dict_05['Tiergarten'], total_cost_dict_05['Tiergarten']/total_cost_dict_05['Tiergarten'][-1])\n",
    "ax2.plot(beta_alpha_solution_dict['Tiergarten'], total_tt_solution_dict['Tiergarten']/total_tt_solution_dict['Tiergarten'][0])\n",
    "ax2.plot(final_beta_2005_dict['Tiergarten'], total_cost_2005_dict['Tiergarten']/total_cost_2005_dict['Tiergarten'][-1])\n",
    "ax2.set_xlabel('Loaded Unfairness')\n",
    "ax2.set_ylabel(r'Inefficiency Ratio $\\rho(\\mathbf{z}(\\alpha))$')\n",
    "ax2.legend(['I-TAP-0.01', 'I-TAP-0.05', 'I-Solution', 'Jahn et al.'])\n",
    "ax2.set_title('Tiergarten')\n",
    "ax2.set_ylim([0.995, 1.1])\n",
    "\n",
    "ax3 = fig.add_subplot(233)\n",
    "ax3.plot(final_beta_dict['SiouxFalls'], total_cost_dict['SiouxFalls']/total_cost_dict['SiouxFalls'][-1])\n",
    "ax3.plot(final_beta_dict_05['SiouxFalls'], total_cost_dict_05['SiouxFalls']/total_cost_dict_05['SiouxFalls'][-1])\n",
    "ax3.plot(beta_alpha_solution_dict['SiouxFalls'], total_tt_solution_dict['SiouxFalls']/total_tt_solution_dict['SiouxFalls'][0])\n",
    "ax3.plot(final_beta_2005_dict['SiouxFalls'], total_cost_2005_dict['SiouxFalls']/total_cost_2005_dict['SiouxFalls'][-1])\n",
    "ax3.set_xlabel('Loaded Unfairness')\n",
    "ax3.set_ylabel(r'Inefficiency Ratio $\\rho(\\mathbf{z}(\\alpha))$')\n",
    "ax3.legend(['I-TAP-0.01', 'I-TAP-0.05', 'I-Solution', 'Jahn et al.'])\n",
    "ax3.set_title('SiouxFalls')\n",
    "ax3.set_ylim([0.995, 1.1])\n",
    "\n",
    "ax4 = fig.add_subplot(234)\n",
    "ax4.plot(final_beta_dict['Anaheim'], total_cost_dict['Anaheim']/total_cost_dict['Anaheim'][-1])\n",
    "ax4.plot(final_beta_dict_05['Anaheim'], total_cost_dict_05['Anaheim']/total_cost_dict_05['Anaheim'][-1])\n",
    "ax4.plot(beta_alpha_solution_dict['Anaheim'], total_tt_solution_dict['Anaheim']/total_tt_solution_dict['Anaheim'][0])\n",
    "ax4.plot(final_beta_2005_dict['Anaheim'], total_cost_2005_dict['Anaheim']/total_cost_2005_dict['Anaheim'][-1])\n",
    "ax4.set_xlabel('Loaded Unfairness')\n",
    "ax4.set_ylabel(r'Inefficiency Ratio $\\rho(\\mathbf{z}(\\alpha))$')\n",
    "ax4.legend(['I-TAP-0.01', 'I-TAP-0.05', 'I-Solution', 'Jahn et al.'])\n",
    "ax4.set_title('Anaheim')\n",
    "ax4.set_ylim([0.995, 1.1])\n",
    "\n",
    "ax5 = fig.add_subplot(235)\n",
    "ax5.plot(final_beta_dict['PrenzlauerbergCenter'], total_cost_dict['PrenzlauerbergCenter']/total_cost_dict['PrenzlauerbergCenter'][-1])\n",
    "ax5.plot(final_beta_dict_05['PrenzlauerbergCenter'], total_cost_dict_05['PrenzlauerbergCenter']/total_cost_dict_05['PrenzlauerbergCenter'][-1])\n",
    "ax5.plot(beta_alpha_solution_dict['PrenzlauerbergCenter'], total_tt_solution_dict['PrenzlauerbergCenter']/total_tt_solution_dict['PrenzlauerbergCenter'][0])\n",
    "ax5.plot(final_beta_2005_dict['PrenzlauerbergCenter'], total_cost_2005_dict['PrenzlauerbergCenter']/total_cost_2005_dict['PrenzlauerbergCenter'][-1])\n",
    "ax5.set_xlabel('Loaded Unfairness')\n",
    "ax5.set_ylabel(r'Inefficiency Ratio $\\rho(\\mathbf{z}(\\alpha))$')\n",
    "ax5.legend(['I-TAP-0.01', 'I-TAP-0.05', 'I-Solution', 'Jahn et al.'])\n",
    "ax5.set_title('PrenzlauerbergCenter')\n",
    "ax5.set_ylim([0.995, 1.1])\n",
    "\n",
    "ax6 = fig.add_subplot(236)\n",
    "ax6.plot(final_beta_dict['Friedrichshain'], total_cost_dict['Friedrichshain']/total_cost_dict['Friedrichshain'][-1])\n",
    "ax6.plot(final_beta_dict_05['Friedrichshain'], total_cost_dict_05['Friedrichshain']/total_cost_dict_05['Friedrichshain'][-1])\n",
    "ax6.plot(beta_alpha_solution_dict['Friedrichshain'], total_tt_solution_dict['Friedrichshain']/total_tt_solution_dict['Friedrichshain'][0])\n",
    "ax6.plot(final_beta_2005_dict['Friedrichshain'], total_cost_2005_dict['Friedrichshain']/total_cost_2005_dict['Friedrichshain'][-1])\n",
    "ax6.set_xlabel('Loaded Unfairness')\n",
    "ax6.set_ylabel(r'Inefficiency Ratio $\\rho(\\mathbf{z}(\\alpha))$')\n",
    "ax6.legend(['I-TAP-0.01', 'I-TAP-0.05', 'I-Solution', 'Jahn et al.'])\n",
    "ax6.set_title('Friedrichshain')\n",
    "ax6.set_ylim([0.995, 1.1])\n",
    "\n",
    "#import tikzplotlib\n",
    "\n",
    "#tikzplotlib.save(\"pareto_solution_all_cities.tex\")"
   ]
  },
  {
   "cell_type": "markdown",
   "metadata": {},
   "source": [
    "#### Inefficiency and Unfairness vs. Convex Combination of I-TAP"
   ]
  },
  {
   "cell_type": "code",
   "execution_count": null,
   "metadata": {},
   "outputs": [],
   "source": [
    "alpha_values = []\n",
    "for i in range(100):\n",
    "    if i<10:\n",
    "        alpha_values.append('.0'+str(i))\n",
    "    else:\n",
    "        alpha_values.append('.'+str(i))\n",
    "alpha_values[0] = '0'\n",
    "alpha_values.append('1.00')\n",
    "\n",
    "for city_ in list_cities:\n",
    "    alpha_vals_plot = [float(i) for i in alpha_values]\n",
    "    plt.plot(alpha_vals_plot, total_cost_original_dict[city_]/total_cost_original_dict[city_][-1])\n",
    "    #plt.scatter(alpha_vals_plot, total_cost_dict[city_]/total_cost_dict[city_][-1])\n",
    "    plt.xlabel(r'Convex Combination Parameter $\\alpha$')\n",
    "    plt.ylabel('T($\\mathbf{x}$)/T($\\mathbf{x}^{SO}$)')\n",
    "plt.legend(list_cities)\n",
    "\n",
    "#import tikzplotlib\n",
    "\n",
    "#tikzplotlib.save(\"cost_v_alpha_0.01.tex\")"
   ]
  },
  {
   "cell_type": "code",
   "execution_count": null,
   "metadata": {},
   "outputs": [],
   "source": [
    "for city_ in list_cities:\n",
    "    alpha_vals_plot = [float(i) for i in alpha_values]\n",
    "    plt.plot(alpha_vals_plot, final_beta_original_dict[city_])\n",
    "    #plt.scatter(alpha_vals_plot, final_beta_dict[city_])\n",
    "    plt.xlabel(r'Convex Combination Parameter $\\alpha$')\n",
    "    plt.ylabel('Unfairness')\n",
    "plt.legend(list_cities)"
   ]
  },
  {
   "cell_type": "code",
   "execution_count": null,
   "metadata": {},
   "outputs": [],
   "source": [
    "# Unfairness plot with outliers\n",
    "for city_ in list_cities:\n",
    "    if city_ != \"PrenzlauerbergCenter\":\n",
    "        P_center = final_beta_original_dict[city_]\n",
    "        actual_P_center = []\n",
    "        outlier_P_center = []\n",
    "        actual_alpha = []\n",
    "        outlier_alpha = []\n",
    "        for idx, i in enumerate(P_center):\n",
    "            if idx == 0:\n",
    "                actual_P_center.append(i)\n",
    "                actual_alpha.append(0.0)\n",
    "\n",
    "            else:\n",
    "                if (i - actual_P_center[-1])/(actual_P_center[-1])*100<=9:\n",
    "                    actual_P_center.append(i)\n",
    "                    actual_alpha.append(idx*0.01)\n",
    "                else:\n",
    "                    outlier_P_center.append(i)\n",
    "                    outlier_alpha.append(idx*0.01)\n",
    "\n",
    "        plt.plot(actual_alpha, actual_P_center)\n",
    "        plt.scatter(outlier_alpha, outlier_P_center)\n",
    "        \n",
    "    else:\n",
    "        alpha_vals_plot = [float(i) for i in alpha_values]\n",
    "        plt.plot(alpha_vals_plot, final_beta_original_dict[city_])\n",
    "    \n",
    "plt.xlabel(r'Convex Combination Parameter $\\alpha$')\n",
    "plt.ylabel('Unfairness')\n",
    "\n",
    "#tikzplotlib.save(\"alpha_v_beta_outliers.tex\")"
   ]
  },
  {
   "cell_type": "code",
   "execution_count": null,
   "metadata": {},
   "outputs": [],
   "source": []
  }
 ],
 "metadata": {
  "kernelspec": {
   "display_name": "Python 3",
   "language": "python",
   "name": "python3"
  },
  "language_info": {
   "codemirror_mode": {
    "name": "ipython",
    "version": 3
   },
   "file_extension": ".py",
   "mimetype": "text/x-python",
   "name": "python",
   "nbconvert_exporter": "python",
   "pygments_lexer": "ipython3",
   "version": "3.7.3"
  }
 },
 "nbformat": 4,
 "nbformat_minor": 2
}
