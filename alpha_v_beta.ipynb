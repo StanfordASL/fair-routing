{
 "cells": [
  {
   "cell_type": "code",
   "execution_count": 1,
   "metadata": {},
   "outputs": [],
   "source": [
    "#Import relevant modules\n",
    "import numpy as np\n",
    "import pandas as pd"
   ]
  },
  {
   "cell_type": "code",
   "execution_count": 2,
   "metadata": {},
   "outputs": [],
   "source": [
    "#Input All data file names\n",
    "edges_file = 'Locations/Massachusetts/edges.csv'\n",
    "flow_so_file = 'Locations/Massachusetts/output_so/flow.csv'\n",
    "flow_ue_file = 'Locations/Massachusetts/output_ue/flow.csv'\n",
    "paths_so_file = 'Locations/Massachusetts/output_so/paths.csv'\n",
    "paths_ue_file = 'Locations/Massachusetts/output_ue/paths.csv'\n",
    "weights_so_file = 'Locations/Massachusetts/output_so/weights.csv'\n",
    "weights_ue_file = 'Locations/Massachusetts/output_ue/weights.csv'\n",
    "od_file = 'Locations/Massachusetts/od.csv'"
   ]
  },
  {
   "cell_type": "markdown",
   "metadata": {},
   "source": [
    "# Major Code"
   ]
  },
  {
   "cell_type": "code",
   "execution_count": 3,
   "metadata": {},
   "outputs": [],
   "source": [
    "edges = pd.read_csv(edges_file)\n",
    "edges_arr = np.array(edges)\n",
    "edges_arr = np.c_[edges_arr, np.array(range(len(edges)))]\n",
    "\n",
    "flow_so = pd.read_csv(flow_so_file, skiprows = 1)\n",
    "flow_so_arr = np.array(flow_so)\n",
    "\n",
    "flow_ue = pd.read_csv(flow_ue_file, skiprows = 1)\n",
    "flow_ue_arr = np.array(flow_ue)"
   ]
  },
  {
   "cell_type": "code",
   "execution_count": 4,
   "metadata": {},
   "outputs": [],
   "source": [
    "def find_edge2(tail_, head_):\n",
    "    '''Finds edge index for given edge'''\n",
    "    \n",
    "    edges_filtered = edges_arr[edges_arr[:, 0] == tail_]\n",
    "    edges_filtered = edges_filtered[edges_filtered[:, 1] == head_]\n",
    "    \n",
    "    return edges_filtered[0, -1]"
   ]
  },
  {
   "cell_type": "code",
   "execution_count": 5,
   "metadata": {},
   "outputs": [],
   "source": [
    "#Update Flow UE data\n",
    "edge_num_ue_arr = []\n",
    "for j in flow_ue.index:\n",
    "    tail_value = int(flow_ue_arr[j, 1])\n",
    "    head_value = int(flow_ue_arr[j, 2])\n",
    "    edge_num_ue_arr.append(find_edge2(tail_value, head_value))\n",
    "\n",
    "flow_ue_arr = np.c_[flow_ue_arr, edge_num_ue_arr]"
   ]
  },
  {
   "cell_type": "code",
   "execution_count": 6,
   "metadata": {},
   "outputs": [],
   "source": [
    "#Update Flow SO data\n",
    "edge_num_so_arr = []\n",
    "for j in flow_so.index:\n",
    "    tail_value = int(flow_so_arr[j, 1])\n",
    "    head_value = int(flow_so_arr[j, 2])\n",
    "    edge_num_so_arr.append(find_edge2(tail_value, head_value))\n",
    "\n",
    "flow_so_arr = np.c_[flow_so_arr, edge_num_so_arr]"
   ]
  },
  {
   "cell_type": "code",
   "execution_count": 7,
   "metadata": {},
   "outputs": [],
   "source": [
    "#Sort flows based on edge indices\n",
    "flow_ue_arr = flow_ue_arr[flow_ue_arr[:,-1].argsort()]\n",
    "flow_so_arr = flow_so_arr[flow_so_arr[:,-1].argsort()]"
   ]
  },
  {
   "cell_type": "code",
   "execution_count": 8,
   "metadata": {},
   "outputs": [],
   "source": [
    "#Store the UE and SO solutions\n",
    "x_UE_sol = flow_ue_arr[:, 6]\n",
    "y_SO_sol = flow_so_arr[:, 6]\n",
    "\n",
    "x_UE_sol = np.array([float(i) for i in x_UE_sol])\n",
    "y_SO_sol = np.array([float(i) for i in y_SO_sol])"
   ]
  },
  {
   "cell_type": "code",
   "execution_count": 9,
   "metadata": {},
   "outputs": [],
   "source": [
    "#Define the link latency functions\n",
    "def link_latency(a_val, power_val, link_ff_cost, link_capacity, link_flow):\n",
    "    '''Calculates latency of link'''\n",
    "    return link_ff_cost*(1+a_val*(link_flow/link_capacity)**power_val)"
   ]
  },
  {
   "cell_type": "code",
   "execution_count": 10,
   "metadata": {},
   "outputs": [],
   "source": [
    "def get_travel_time(sol_implement):\n",
    "    '''Find the total travel time in a given network'''\n",
    "    \n",
    "    return sum([sol_implement[j_val]*link_latency(0.15, 4, int(flow_so_arr[j_val, 3]),  edges_arr[j_val, 3], sol_implement[j_val]) for j_val in range(len(sol_implement))])\n"
   ]
  },
  {
   "cell_type": "code",
   "execution_count": 11,
   "metadata": {},
   "outputs": [
    {
     "name": "stderr",
     "output_type": "stream",
     "text": [
      "/Users/devanshjalota/anaconda3/lib/python3.7/site-packages/ipykernel_launcher.py:1: ParserWarning: Falling back to the 'python' engine because the 'c' engine does not support regex separators (separators > 1 char and different from '\\s+' are interpreted as regex); you can avoid this warning by specifying engine='python'.\n",
      "  \"\"\"Entry point for launching an IPython kernel.\n",
      "/Users/devanshjalota/anaconda3/lib/python3.7/site-packages/ipykernel_launcher.py:2: ParserWarning: Falling back to the 'python' engine because the 'c' engine does not support regex separators (separators > 1 char and different from '\\s+' are interpreted as regex); you can avoid this warning by specifying engine='python'.\n",
      "  \n"
     ]
    }
   ],
   "source": [
    "paths_so = pd.read_csv(paths_so_file, sep='delimiter', header=None)\n",
    "paths_ue = pd.read_csv(paths_ue_file, sep='delimiter', header=None)\n",
    "\n",
    "paths_so = paths_so.iloc[2:]\n",
    "paths_so = paths_so[0].str.split(',', 2, expand = True)\n",
    "paths_arr_so = np.array(paths_so)\n",
    "\n",
    "paths_ue = paths_ue.iloc[2:]\n",
    "paths_ue = paths_ue[0].str.split(',', 2, expand = True)\n",
    "paths_arr_ue = np.array(paths_ue)"
   ]
  },
  {
   "cell_type": "code",
   "execution_count": 12,
   "metadata": {},
   "outputs": [
    {
     "name": "stderr",
     "output_type": "stream",
     "text": [
      "/Users/devanshjalota/anaconda3/lib/python3.7/site-packages/ipykernel_launcher.py:19: FutureWarning: arrays to stack must be passed as a \"sequence\" type such as list or tuple. Support for non-sequence iterables such as generators is deprecated as of NumPy 1.16 and will raise an error in the future.\n"
     ]
    }
   ],
   "source": [
    "weights_ue = pd.read_csv(weights_ue_file, skiprows = 1)\n",
    "weights_ue_arr = np.array(weights_ue)\n",
    "\n",
    "#Check if weight is at least 1/10th of the maximum weight\n",
    "small_arr = []\n",
    "for i in range(len(weights_ue_arr)):\n",
    "    if weights_ue_arr[i, 1] > max(weights_ue_arr[:, 1])/2:\n",
    "        small_arr.append(i)\n",
    "        \n",
    "#weig = []\n",
    "#for i in paths_arr_ue[:, 0]:\n",
    "#    weig.append([weights_ue_arr[int(i)-1, 1]])\n",
    "    \n",
    "#Find unique paths\n",
    "paths_arr_ue[:, 0] = [int(i) for i in paths_arr_ue[:, 0]]\n",
    "#paths_arr_ue = np.append(paths_arr_ue, np.array(weig), axis=1)\n",
    "paths_arr_ue = paths_arr_ue[paths_arr_ue[:, 0]>=min(small_arr)]\n",
    "paths_arr_ue_new = paths_arr_ue[:, 1:]\n",
    "paths_arr_ue_new = np.vstack({tuple(row) for row in paths_arr_ue_new})"
   ]
  },
  {
   "cell_type": "code",
   "execution_count": 13,
   "metadata": {},
   "outputs": [
    {
     "name": "stderr",
     "output_type": "stream",
     "text": [
      "/Users/devanshjalota/anaconda3/lib/python3.7/site-packages/ipykernel_launcher.py:19: FutureWarning: arrays to stack must be passed as a \"sequence\" type such as list or tuple. Support for non-sequence iterables such as generators is deprecated as of NumPy 1.16 and will raise an error in the future.\n"
     ]
    }
   ],
   "source": [
    "weights_so = pd.read_csv(weights_so_file, skiprows = 1)\n",
    "weights_so_arr = np.array(weights_so)\n",
    "\n",
    "#Check if weight is at least 1/10th of the maximum weight\n",
    "small_arr = []\n",
    "for i in range(len(weights_so_arr)):\n",
    "    if weights_so_arr[i, 1] > max(weights_so_arr[:, 1])/10:\n",
    "        small_arr.append(i)\n",
    "\n",
    "#weig = []\n",
    "#for i in paths_arr_so[:, 0]:\n",
    "#    weig.append([weights_so_arr[int(i)-1, 1]])\n",
    "\n",
    "#Find unique paths\n",
    "paths_arr_so[:, 0] = [int(i) for i in paths_arr_so[:, 0]]\n",
    "#paths_arr_so = np.append(paths_arr_so, np.array(weig), axis=1)\n",
    "paths_arr_so = paths_arr_so[paths_arr_so[:, 0]>=min(small_arr)]\n",
    "paths_arr_so_new = paths_arr_so[:, 1:]\n",
    "paths_arr_so_new = np.vstack({tuple(row) for row in paths_arr_so_new})"
   ]
  },
  {
   "cell_type": "code",
   "execution_count": null,
   "metadata": {},
   "outputs": [],
   "source": []
  },
  {
   "cell_type": "code",
   "execution_count": null,
   "metadata": {},
   "outputs": [],
   "source": []
  },
  {
   "cell_type": "code",
   "execution_count": 14,
   "metadata": {},
   "outputs": [],
   "source": [
    "#df_so = pd.DataFrame(paths_arr_so[:, 1:])\n",
    "#df_ue = pd.DataFrame(paths_arr_ue[:, 1:])"
   ]
  },
  {
   "cell_type": "code",
   "execution_count": 15,
   "metadata": {
    "scrolled": true
   },
   "outputs": [],
   "source": [
    "#df_so = df_so.groupby(by=[0, 1]).sum()\n",
    "#paths_arr_so_new = np.array(df_so.reset_index())\n",
    "\n",
    "#df_ue = df_ue.groupby(by=[0, 1]).sum()\n",
    "#paths_arr_ue_new = np.array(df_ue.reset_index())"
   ]
  },
  {
   "cell_type": "code",
   "execution_count": null,
   "metadata": {},
   "outputs": [],
   "source": []
  },
  {
   "cell_type": "code",
   "execution_count": null,
   "metadata": {},
   "outputs": [],
   "source": []
  },
  {
   "cell_type": "code",
   "execution_count": 16,
   "metadata": {
    "scrolled": true
   },
   "outputs": [
    {
     "name": "stdout",
     "output_type": "stream",
     "text": [
      "0\n",
      "100\n",
      "200\n",
      "300\n",
      "400\n",
      "500\n",
      "600\n",
      "700\n",
      "800\n",
      "900\n",
      "1000\n",
      "1100\n"
     ]
    }
   ],
   "source": [
    "OD_dict_UE = {}\n",
    "OD_path_lengths_UE = {}\n",
    "#OD_path_weights_UE = {}\n",
    "for OD_pair in range(int(paths_arr_ue[-1, 1])):\n",
    "    OD_arr = paths_arr_ue_new[paths_arr_ue_new[:, 0] == str(OD_pair)]\n",
    "    all_paths_OD = []\n",
    "    OD_tt_paths = []\n",
    "    #OD_weight_paths = []\n",
    "    for path_idx, path_val in enumerate(OD_arr[:, 1]):\n",
    "        all_edges = path_val.split(',')\n",
    "        all_edges = [int(i) for i in all_edges]\n",
    "        list_edges = []\n",
    "        path_tt = 0\n",
    "        \n",
    "        #OD_weight_paths.append(OD_arr[path_idx, 2])\n",
    "        #print(OD_weight_paths)\n",
    "        for edge_values in all_edges:\n",
    "            list_edges.append(edge_values)\n",
    "            #path_tt += cost_sol[edge_values]\n",
    "            path_tt += link_latency(0.15, 4, int(flow_ue_arr[edge_values, 3]),  edges_arr[edge_values, 3], x_UE_sol[edge_values])\n",
    "\n",
    "        OD_tt_paths.append(path_tt)\n",
    "\n",
    "        #if list_edges not in all_paths_OD:\n",
    "        all_paths_OD.append(list_edges)\n",
    "    if OD_pair%100 == 0:\n",
    "        print(OD_pair)\n",
    "    OD_dict_UE[OD_pair] = all_paths_OD\n",
    "    OD_path_lengths_UE[OD_pair] = OD_tt_paths\n",
    "    #OD_path_weights_UE[OD_pair] = OD_weight_paths\n",
    "    #print(OD_path_weights_UE)"
   ]
  },
  {
   "cell_type": "code",
   "execution_count": 17,
   "metadata": {
    "scrolled": true
   },
   "outputs": [
    {
     "name": "stdout",
     "output_type": "stream",
     "text": [
      "0\n",
      "100\n",
      "200\n",
      "300\n",
      "400\n",
      "500\n",
      "600\n",
      "700\n",
      "800\n",
      "900\n",
      "1000\n",
      "1100\n"
     ]
    }
   ],
   "source": [
    "OD_dict_SO = {}\n",
    "OD_path_lengths_SO = {}\n",
    "#OD_path_weights_SO = {}\n",
    "for OD_pair in range(int(paths_arr_so[-1, 1])):\n",
    "    OD_arr = paths_arr_so_new[paths_arr_so_new[:, 0] == str(OD_pair)]\n",
    "    all_paths_OD = []\n",
    "    OD_tt_paths = []\n",
    "    #OD_weight_paths = []\n",
    "    for path_val in OD_arr[:, 1]:\n",
    "        all_edges = path_val.split(',')\n",
    "        all_edges = [int(i) for i in all_edges]\n",
    "        list_edges = []\n",
    "        path_tt = 0\n",
    "        #OD_weight_paths.append(OD_arr[path_idx, 2])\n",
    "        for edge_values in all_edges:\n",
    "            list_edges.append(edge_values)\n",
    "            #path_tt += cost_sol[edge_values]\n",
    "            path_tt += link_latency(0.15, 4, int(flow_so_arr[edge_values, 3]),  edges_arr[edge_values, 3], y_SO_sol[edge_values])\n",
    "\n",
    "        OD_tt_paths.append(path_tt)\n",
    "\n",
    "        #if list_edges not in all_paths_OD:\n",
    "        all_paths_OD.append(list_edges)\n",
    "    if OD_pair%100 == 0:\n",
    "        print(OD_pair)\n",
    "    OD_dict_SO[OD_pair] = all_paths_OD\n",
    "    OD_path_lengths_SO[OD_pair] = OD_tt_paths\n",
    "    #OD_path_weights_SO[OD_pair] = OD_weight_paths"
   ]
  },
  {
   "cell_type": "code",
   "execution_count": 18,
   "metadata": {},
   "outputs": [],
   "source": [
    "def dict_union(dict_UE, dict_SO):\n",
    "    '''Find the union of two dictionaries'''\n",
    "    dict_total = {}\n",
    "    for OD_pair in dict_SO:\n",
    "        a = []#dict_total[OD_pair]\n",
    "        for j in dict_SO[OD_pair]:\n",
    "            #if j not in dict_UE[OD_pair]:\n",
    "            a.append(j)\n",
    "        for j in dict_UE[OD_pair]:\n",
    "            if j not in dict_SO[OD_pair]:\n",
    "                a.append(j)\n",
    "                \n",
    "        dict_total[OD_pair] = a\n",
    "        \n",
    "    return dict_total"
   ]
  },
  {
   "cell_type": "code",
   "execution_count": 19,
   "metadata": {},
   "outputs": [],
   "source": [
    "#Take the union of the two dictionaries to find total set of OD pairs\n",
    "OD_dict = dict_union(OD_dict_UE, OD_dict_SO)\n",
    "#OD_dict_weights = dict_union(OD_path_weights_UE, OD_path_weights_SO)"
   ]
  },
  {
   "cell_type": "code",
   "execution_count": 20,
   "metadata": {},
   "outputs": [],
   "source": [
    "OD_mat = pd.read_csv(od_file)\n",
    "OD_arr = OD_mat['volume'].values"
   ]
  },
  {
   "cell_type": "code",
   "execution_count": null,
   "metadata": {},
   "outputs": [],
   "source": []
  },
  {
   "cell_type": "code",
   "execution_count": null,
   "metadata": {},
   "outputs": [],
   "source": []
  },
  {
   "cell_type": "code",
   "execution_count": 21,
   "metadata": {},
   "outputs": [],
   "source": [
    "def beta_calc(OD_dict, convex_comb):\n",
    "    '''Calculate beta for a given alpha value'''\n",
    "    \n",
    "    beta_val = []\n",
    "    for OD_pair in OD_dict:\n",
    "        path_OD = []\n",
    "        for path in OD_dict[OD_pair]:\n",
    "            path_tt = 0\n",
    "            for edge in path:\n",
    "                path_tt += link_latency(0.15, 4, int(flow_so_arr[edge, 3]),  edges_arr[edge, 3], convex_comb[edge])\n",
    "\n",
    "            path_OD.append(path_tt)\n",
    "\n",
    "        #Store max and min paths per OD pair\n",
    "        path_OD_max = max(path_OD)\n",
    "        path_OD_min = min(path_OD)\n",
    "\n",
    "        #Find ratio of max and min\n",
    "        path_OD_beta = path_OD_max/path_OD_min\n",
    "        beta_val.append(path_OD_beta)\n",
    "\n",
    "    #Find maximum value of beta for this value of alpha\n",
    "    beta = max(beta_val)\n",
    "    \n",
    "    return beta"
   ]
  },
  {
   "cell_type": "code",
   "execution_count": 22,
   "metadata": {},
   "outputs": [],
   "source": [
    "def beta_calc_dist(OD_dict, convex_comb, percentile_val):\n",
    "    '''Calculate beta for a given alpha value'''\n",
    "    \n",
    "    beta_val = []\n",
    "    for OD_pair in OD_dict:\n",
    "        path_OD = []\n",
    "        for path_idx, path in enumerate(OD_dict[OD_pair]):\n",
    "            path_tt = 0\n",
    "            for edge in path:\n",
    "                path_tt += link_latency(0.15, 4, int(flow_so_arr[edge, 3]),  edges_arr[edge, 3], convex_comb[edge])\n",
    "\n",
    "            path_OD.append(path_tt)\n",
    "\n",
    "        \n",
    "        \n",
    "        #Store max and min paths per OD pair\n",
    "        path_OD_max = max(path_OD)\n",
    "        path_OD_min = min(path_OD)\n",
    "\n",
    "        #Find ratio of max and min\n",
    "        path_OD_beta = path_OD_max/path_OD_min\n",
    "        beta_val.append(path_OD_beta)\n",
    "\n",
    "    #Find percentile value of beta for this value of alpha\n",
    "    beta_new_val = [item for item, count in zip(beta_val, OD_arr) for i in range(count)]\n",
    "    beta_dist = np.percentile(beta_new_val, percentile_val)\n",
    "    \n",
    "    return beta_dist"
   ]
  },
  {
   "cell_type": "code",
   "execution_count": 23,
   "metadata": {
    "scrolled": true
   },
   "outputs": [
    {
     "name": "stdout",
     "output_type": "stream",
     "text": [
      "0.0\n",
      "0.0\n",
      "0.01\n",
      "0.01\n",
      "0.02\n",
      "0.02\n",
      "0.03\n",
      "0.03\n",
      "0.04\n",
      "0.04\n",
      "0.05\n",
      "0.05\n",
      "0.06\n",
      "0.06\n",
      "0.07\n",
      "0.07\n",
      "0.08\n",
      "0.08\n",
      "0.09\n",
      "0.09\n",
      "0.1\n",
      "0.1\n",
      "0.11\n",
      "0.11\n",
      "0.12\n",
      "0.12\n",
      "0.13\n",
      "0.13\n",
      "0.14\n",
      "0.14\n",
      "0.15\n",
      "0.15\n",
      "0.16\n",
      "0.16\n",
      "0.17\n",
      "0.17\n",
      "0.18\n",
      "0.18\n",
      "0.19\n",
      "0.19\n",
      "0.2\n",
      "0.2\n",
      "0.21\n",
      "0.21\n",
      "0.22\n",
      "0.22\n",
      "0.23\n",
      "0.23\n",
      "0.24\n",
      "0.24\n",
      "0.25\n",
      "0.25\n",
      "0.26\n",
      "0.26\n",
      "0.27\n",
      "0.27\n",
      "0.28\n",
      "0.28\n",
      "0.29\n",
      "0.29\n",
      "0.3\n",
      "0.3\n",
      "0.31\n",
      "0.31\n",
      "0.32\n",
      "0.32\n",
      "0.33\n",
      "0.33\n",
      "0.34\n",
      "0.34\n",
      "0.35000000000000003\n",
      "0.35000000000000003\n",
      "0.36\n",
      "0.36\n",
      "0.37\n",
      "0.37\n",
      "0.38\n",
      "0.38\n",
      "0.39\n",
      "0.39\n",
      "0.4\n",
      "0.4\n",
      "0.41000000000000003\n",
      "0.41000000000000003\n",
      "0.42\n",
      "0.42\n",
      "0.43\n",
      "0.43\n",
      "0.44\n",
      "0.44\n",
      "0.45\n",
      "0.45\n",
      "0.46\n",
      "0.46\n",
      "0.47000000000000003\n",
      "0.47000000000000003\n",
      "0.48\n",
      "0.48\n",
      "0.49\n",
      "0.49\n",
      "0.5\n",
      "0.5\n",
      "0.51\n",
      "0.51\n",
      "0.52\n",
      "0.52\n",
      "0.53\n",
      "0.53\n",
      "0.54\n",
      "0.54\n",
      "0.55\n",
      "0.55\n",
      "0.56\n",
      "0.56\n",
      "0.5700000000000001\n",
      "0.5700000000000001\n",
      "0.58\n",
      "0.58\n",
      "0.59\n",
      "0.59\n",
      "0.6\n",
      "0.6\n",
      "0.61\n",
      "0.61\n",
      "0.62\n",
      "0.62\n",
      "0.63\n",
      "0.63\n",
      "0.64\n",
      "0.64\n",
      "0.65\n",
      "0.65\n",
      "0.66\n",
      "0.66\n",
      "0.67\n",
      "0.67\n",
      "0.68\n",
      "0.68\n",
      "0.6900000000000001\n",
      "0.6900000000000001\n",
      "0.7000000000000001\n",
      "0.7000000000000001\n",
      "0.71\n",
      "0.71\n",
      "0.72\n",
      "0.72\n",
      "0.73\n",
      "0.73\n",
      "0.74\n",
      "0.74\n",
      "0.75\n",
      "0.75\n",
      "0.76\n",
      "0.76\n",
      "0.77\n",
      "0.77\n",
      "0.78\n",
      "0.78\n",
      "0.79\n",
      "0.79\n",
      "0.8\n",
      "0.8\n",
      "0.81\n",
      "0.81\n",
      "0.8200000000000001\n",
      "0.8200000000000001\n",
      "0.8300000000000001\n",
      "0.8300000000000001\n",
      "0.84\n",
      "0.84\n",
      "0.85\n",
      "0.85\n",
      "0.86\n",
      "0.86\n",
      "0.87\n",
      "0.87\n",
      "0.88\n",
      "0.88\n",
      "0.89\n",
      "0.89\n",
      "0.9\n",
      "0.9\n",
      "0.91\n",
      "0.91\n",
      "0.92\n",
      "0.92\n",
      "0.93\n",
      "0.93\n",
      "0.9400000000000001\n",
      "0.9400000000000001\n",
      "0.9500000000000001\n",
      "0.9500000000000001\n",
      "0.96\n",
      "0.96\n",
      "0.97\n",
      "0.97\n",
      "0.98\n",
      "0.98\n",
      "0.99\n",
      "0.99\n",
      "1.0\n",
      "1.0\n"
     ]
    }
   ],
   "source": [
    "#Calculate for each value of alpha the corresponding travel time\n",
    "total_tt = []\n",
    "beta_alpha = []\n",
    "alpha_vals = np.linspace(0, 1, 101)\n",
    "for i in alpha_vals:\n",
    "    convex_comb = i*x_UE_sol + (1-i)*y_SO_sol\n",
    "    total_tt_alpha = get_travel_time(convex_comb)\n",
    "    total_tt.append(total_tt_alpha)\n",
    "    print(i)\n",
    "    #If at extremes then calculate beta according to UE and SO solutions respectively\n",
    "    if i == 0:\n",
    "        beta = beta_calc(OD_dict_SO, convex_comb)\n",
    "    elif i == 1:\n",
    "        beta = beta_calc(OD_dict_UE, convex_comb)\n",
    "    else:\n",
    "        beta = beta_calc(OD_dict, convex_comb)\n",
    "    print(i)\n",
    "    \n",
    "    beta_alpha.append(beta)"
   ]
  },
  {
   "cell_type": "code",
   "execution_count": 24,
   "metadata": {},
   "outputs": [
    {
     "data": {
      "text/plain": [
       "Text(0, 0.5, '$\\\\beta$')"
      ]
     },
     "execution_count": 24,
     "metadata": {},
     "output_type": "execute_result"
    }
   ],
   "source": [
    "import matplotlib.pyplot as plt\n",
    "\n",
    "plt.plot(alpha_vals, beta_alpha)\n",
    "plt.xlabel(r'$\\alpha$')\n",
    "plt.ylabel(r'$\\beta$')"
   ]
  },
  {
   "cell_type": "code",
   "execution_count": 25,
   "metadata": {},
   "outputs": [
    {
     "data": {
      "text/plain": [
       "Text(0, 0.5, 'Total Travel Time')"
      ]
     },
     "execution_count": 25,
     "metadata": {},
     "output_type": "execute_result"
    },
    {
     "data": {
      "image/png": "[encoded data removed]",
      "text/plain": [
       "<Figure size 432x288 with 1 Axes>"
      ]
     },
     "metadata": {
      "needs_background": "light"
     },
     "output_type": "display_data"
    }
   ],
   "source": [
    "import matplotlib.pyplot as plt\n",
    "\n",
    "plt.plot(alpha_vals, total_tt)\n",
    "plt.xlabel(r'$\\alpha$')\n",
    "plt.ylabel('Total Travel Time')"
   ]
  },
  {
   "cell_type": "code",
   "execution_count": 26,
   "metadata": {
    "scrolled": true
   },
   "outputs": [
    {
     "name": "stdout",
     "output_type": "stream",
     "text": [
      "0.0\n",
      "0.0\n",
      "0.01\n",
      "0.01\n",
      "0.02\n",
      "0.02\n",
      "0.03\n",
      "0.03\n",
      "0.04\n",
      "0.04\n",
      "0.05\n",
      "0.05\n",
      "0.06\n",
      "0.06\n",
      "0.07\n",
      "0.07\n",
      "0.08\n",
      "0.08\n",
      "0.09\n",
      "0.09\n",
      "0.1\n",
      "0.1\n",
      "0.11\n",
      "0.11\n",
      "0.12\n",
      "0.12\n",
      "0.13\n",
      "0.13\n",
      "0.14\n",
      "0.14\n",
      "0.15\n",
      "0.15\n",
      "0.16\n",
      "0.16\n",
      "0.17\n",
      "0.17\n",
      "0.18\n",
      "0.18\n",
      "0.19\n",
      "0.19\n",
      "0.2\n",
      "0.2\n",
      "0.21\n",
      "0.21\n",
      "0.22\n",
      "0.22\n",
      "0.23\n",
      "0.23\n",
      "0.24\n",
      "0.24\n",
      "0.25\n",
      "0.25\n",
      "0.26\n",
      "0.26\n",
      "0.27\n",
      "0.27\n",
      "0.28\n",
      "0.28\n",
      "0.29\n",
      "0.29\n",
      "0.3\n",
      "0.3\n",
      "0.31\n",
      "0.31\n",
      "0.32\n",
      "0.32\n",
      "0.33\n",
      "0.33\n",
      "0.34\n",
      "0.34\n",
      "0.35000000000000003\n",
      "0.35000000000000003\n",
      "0.36\n",
      "0.36\n",
      "0.37\n",
      "0.37\n",
      "0.38\n",
      "0.38\n",
      "0.39\n",
      "0.39\n",
      "0.4\n",
      "0.4\n",
      "0.41000000000000003\n",
      "0.41000000000000003\n",
      "0.42\n",
      "0.42\n",
      "0.43\n",
      "0.43\n",
      "0.44\n",
      "0.44\n",
      "0.45\n",
      "0.45\n",
      "0.46\n",
      "0.46\n",
      "0.47000000000000003\n",
      "0.47000000000000003\n",
      "0.48\n",
      "0.48\n",
      "0.49\n",
      "0.49\n",
      "0.5\n",
      "0.5\n",
      "0.51\n",
      "0.51\n",
      "0.52\n",
      "0.52\n",
      "0.53\n",
      "0.53\n",
      "0.54\n",
      "0.54\n",
      "0.55\n",
      "0.55\n",
      "0.56\n",
      "0.56\n",
      "0.5700000000000001\n",
      "0.5700000000000001\n",
      "0.58\n",
      "0.58\n",
      "0.59\n",
      "0.59\n",
      "0.6\n",
      "0.6\n",
      "0.61\n",
      "0.61\n",
      "0.62\n",
      "0.62\n",
      "0.63\n",
      "0.63\n",
      "0.64\n",
      "0.64\n",
      "0.65\n",
      "0.65\n",
      "0.66\n",
      "0.66\n",
      "0.67\n",
      "0.67\n",
      "0.68\n",
      "0.68\n",
      "0.6900000000000001\n",
      "0.6900000000000001\n",
      "0.7000000000000001\n",
      "0.7000000000000001\n",
      "0.71\n",
      "0.71\n",
      "0.72\n",
      "0.72\n",
      "0.73\n",
      "0.73\n",
      "0.74\n",
      "0.74\n",
      "0.75\n",
      "0.75\n",
      "0.76\n",
      "0.76\n",
      "0.77\n",
      "0.77\n",
      "0.78\n",
      "0.78\n",
      "0.79\n",
      "0.79\n",
      "0.8\n",
      "0.8\n",
      "0.81\n",
      "0.81\n",
      "0.8200000000000001\n",
      "0.8200000000000001\n",
      "0.8300000000000001\n",
      "0.8300000000000001\n",
      "0.84\n",
      "0.84\n",
      "0.85\n",
      "0.85\n",
      "0.86\n",
      "0.86\n",
      "0.87\n",
      "0.87\n",
      "0.88\n",
      "0.88\n",
      "0.89\n",
      "0.89\n",
      "0.9\n",
      "0.9\n",
      "0.91\n",
      "0.91\n",
      "0.92\n",
      "0.92\n",
      "0.93\n",
      "0.93\n",
      "0.9400000000000001\n",
      "0.9400000000000001\n",
      "0.9500000000000001\n",
      "0.9500000000000001\n",
      "0.96\n",
      "0.96\n",
      "0.97\n",
      "0.97\n",
      "0.98\n",
      "0.98\n",
      "0.99\n",
      "0.99\n",
      "1.0\n",
      "1.0\n"
     ]
    }
   ],
   "source": [
    "#Calculate for each value of alpha the corresponding travel time\n",
    "total_tt = []\n",
    "beta_alpha = []\n",
    "alpha_vals = np.linspace(0, 1, 101)\n",
    "for i in alpha_vals:\n",
    "    convex_comb = i*x_UE_sol + (1-i)*y_SO_sol\n",
    "    total_tt_alpha = get_travel_time(convex_comb)\n",
    "    total_tt.append(total_tt_alpha)\n",
    "    print(i)\n",
    "    #If at extremes then calculate beta according to UE and SO solutions respectively\n",
    "    if i == 0:\n",
    "        beta = beta_calc_dist(OD_dict_SO, convex_comb, 98)\n",
    "    elif i == 1:\n",
    "        beta = beta_calc_dist(OD_dict_UE, convex_comb, 98)\n",
    "    else:\n",
    "        beta = beta_calc_dist(OD_dict, convex_comb, 98)\n",
    "    print(i)\n",
    "    \n",
    "    beta_alpha.append(beta)"
   ]
  },
  {
   "cell_type": "code",
   "execution_count": 27,
   "metadata": {},
   "outputs": [
    {
     "data": {
      "text/plain": [
       "Text(0, 0.5, '$\\\\beta$')"
      ]
     },
     "execution_count": 27,
     "metadata": {},
     "output_type": "execute_result"
    },
    {
     "data": {
      "image/png": "[encoded data removed]",
      "text/plain": [
       "<Figure size 432x288 with 1 Axes>"
      ]
     },
     "metadata": {
      "needs_background": "light"
     },
     "output_type": "display_data"
    }
   ],
   "source": [
    "import matplotlib.pyplot as plt\n",
    "\n",
    "plt.plot(alpha_vals, beta_alpha)\n",
    "plt.xlabel(r'$\\alpha$')\n",
    "plt.ylabel(r'$\\beta$')"
   ]
  },
  {
   "cell_type": "code",
   "execution_count": 28,
   "metadata": {},
   "outputs": [
    {
     "data": {
      "text/plain": [
       "Text(0, 0.5, 'Total Travel Time')"
      ]
     },
     "execution_count": 28,
     "metadata": {},
     "output_type": "execute_result"
    },
    {
     "data": {
      "image/png": "[encoded data removed]",
      "text/plain": [
       "<Figure size 432x288 with 1 Axes>"
      ]
     },
     "metadata": {
      "needs_background": "light"
     },
     "output_type": "display_data"
    }
   ],
   "source": [
    "import matplotlib.pyplot as plt\n",
    "\n",
    "plt.plot(alpha_vals, total_tt)\n",
    "plt.xlabel(r'$\\alpha$')\n",
    "plt.ylabel('Total Travel Time')"
   ]
  },
  {
   "cell_type": "code",
   "execution_count": null,
   "metadata": {},
   "outputs": [],
   "source": []
  }
 ],
 "metadata": {
  "kernelspec": {
   "display_name": "Python 3",
   "language": "python",
   "name": "python3"
  },
  "language_info": {
   "codemirror_mode": {
    "name": "ipython",
    "version": 3
   },
   "file_extension": ".py",
   "mimetype": "text/x-python",
   "name": "python",
   "nbconvert_exporter": "python",
   "pygments_lexer": "ipython3",
   "version": "3.7.3"
  }
 },
 "nbformat": 4,
 "nbformat_minor": 2
}
