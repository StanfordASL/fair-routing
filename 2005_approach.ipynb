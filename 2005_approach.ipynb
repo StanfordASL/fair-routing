{
 "cells": [
  {
   "cell_type": "code",
   "execution_count": 1,
   "metadata": {},
   "outputs": [],
   "source": [
    "#Import relevant modules\n",
    "import numpy as np\n",
    "import pandas as pd"
   ]
  },
  {
   "cell_type": "code",
   "execution_count": 2,
   "metadata": {},
   "outputs": [],
   "source": [
    "city_name = 'Massachusetts'\n",
    "percentile_val = 98\n",
    "loc_ = 'constrained_approach/' + city_name + '/' + city_name +  '-constrained-'\n",
    "edges_file = 'Locations/' + city_name + '/edges.csv'\n",
    "od_file = 'Locations/' + city_name + '/od.csv'"
   ]
  },
  {
   "cell_type": "code",
   "execution_count": 3,
   "metadata": {},
   "outputs": [
    {
     "name": "stdout",
     "output_type": "stream",
     "text": [
      "1.00\n"
     ]
    },
    {
     "name": "stderr",
     "output_type": "stream",
     "text": [
      "/Users/devanshjalota/anaconda3/lib/python3.7/site-packages/ipykernel_launcher.py:47: ParserWarning: Falling back to the 'python' engine because the 'c' engine does not support regex separators (separators > 1 char and different from '\\s+' are interpreted as regex); you can avoid this warning by specifying engine='python'.\n",
      "/Users/devanshjalota/anaconda3/lib/python3.7/site-packages/ipykernel_launcher.py:65: FutureWarning: arrays to stack must be passed as a \"sequence\" type such as list or tuple. Support for non-sequence iterables such as generators is deprecated as of NumPy 1.16 and will raise an error in the future.\n"
     ]
    },
    {
     "name": "stdout",
     "output_type": "stream",
     "text": [
      "1.05\n",
      "1.10\n",
      "1.15\n",
      "1.20\n",
      "1.25\n",
      "1.30\n",
      "1.35\n",
      "1.40\n",
      "1.45\n",
      "1.50\n",
      "1.55\n",
      "1.60\n",
      "1.65\n",
      "1.70\n",
      "1.75\n",
      "1.80\n",
      "1.85\n",
      "1.90\n",
      "1.95\n",
      "2.00\n"
     ]
    }
   ],
   "source": [
    "alpha_values = ['1.00', '1.05', '1.10', '1.15', '1.20', '1.25', '1.30', '1.35', '1.40', '1.45', '1.50',\n",
    "               '1.55', '1.60', '1.65', '1.70', '1.75', '1.80', '1.85', '1.90', '1.95', '2.00']\n",
    "\n",
    "#Edges Data\n",
    "edges = pd.read_csv(edges_file)\n",
    "edges_arr = np.array(edges)\n",
    "edges_arr = np.c_[edges_arr, np.array(range(len(edges)))]\n",
    "\n",
    "OD_mat = pd.read_csv(od_file)\n",
    "OD_arr__ = OD_mat['volume'].values\n",
    "\n",
    "total_cost = []\n",
    "final_beta = []\n",
    "percentile_beta = []\n",
    "for alpha_val in alpha_values:\n",
    "    print(alpha_val)\n",
    "        \n",
    "    df_flow = pd.read_csv(loc_+alpha_val+'/flow.csv', skiprows = 1)\n",
    "    actual_cost = np.array(df_flow['actualCost'])\n",
    "    flow = np.array(df_flow['flow'])\n",
    "    total_cost.append(sum([actual_cost[i]*flow[i] for i in range(len(actual_cost))]))\n",
    "    \n",
    "\n",
    "    flow_arr = np.array(df_flow)\n",
    "\n",
    "    def find_edge2(tail_, head_):\n",
    "        '''Finds edge index for given edge'''\n",
    "\n",
    "        edges_filtered = edges_arr[edges_arr[:, 0] == tail_]\n",
    "        edges_filtered = edges_filtered[edges_filtered[:, 1] == head_]\n",
    "\n",
    "        return edges_filtered[0, -1]\n",
    "\n",
    "    #Update Flow data\n",
    "    edge_num_arr = []\n",
    "    for j in df_flow.index:\n",
    "        tail_value = int(flow_arr[j, 1])\n",
    "        head_value = int(flow_arr[j, 2])\n",
    "        edge_num_arr.append(find_edge2(tail_value, head_value))\n",
    "\n",
    "    flow_arr = np.c_[flow_arr, edge_num_arr]\n",
    "    flow_arr = flow_arr[flow_arr[:,-1].argsort()]\n",
    "    \n",
    "    cost_sol = flow_arr[:, 4]\n",
    "    cost_sol = np.array([float(i) for i in cost_sol])\n",
    "    \n",
    "    paths_df = pd.read_csv(loc_+alpha_val+'/paths.csv', sep='delimiter', header=None)\n",
    "    paths_df = paths_df.iloc[2:]\n",
    "    paths_df = paths_df[0].str.split(',', 2, expand = True)\n",
    "    paths_arr = np.array(paths_df)\n",
    "    \n",
    "    weights_df = pd.read_csv(loc_+alpha_val+'/weights.csv', skiprows = 1)\n",
    "    weights_df_arr = np.array(weights_df)\n",
    "\n",
    "    #Check if weight is at least 1/10th of the maximum weight\n",
    "    small_arr = []\n",
    "    for i in range(len(weights_df_arr)):\n",
    "        if weights_df_arr[i, 1] > max(weights_df_arr[:, 1])/10:\n",
    "            small_arr.append(i)\n",
    "\n",
    "    paths_arr[:, 0] = [int(i) for i in paths_arr[:, 0]]\n",
    "    #paths_arr_ue = np.append(paths_arr_ue, np.array(weig), axis=1)\n",
    "    paths_arr = paths_arr[paths_arr[:, 0]>=min(small_arr)]\n",
    "    paths_arr_new = paths_arr[:, 1:]\n",
    "    paths_arr_new = np.vstack({tuple(row) for row in paths_arr_new})\n",
    "    \n",
    "    beta_val = []\n",
    "    for OD_pair in range(int(paths_arr[-1, 1])):\n",
    "        OD_arr = paths_arr_new[paths_arr_new[:, 0] == str(OD_pair)]\n",
    "        all_paths_OD = []\n",
    "        OD_tt_paths = []\n",
    "        for path_idx, path_val in enumerate(OD_arr[:, 1]):\n",
    "            all_edges = path_val.split(',')\n",
    "            all_edges = [int(i) for i in all_edges]\n",
    "            list_edges = []\n",
    "            path_tt = 0\n",
    "            for edge_values in all_edges:\n",
    "                list_edges.append(edge_values)\n",
    "                path_tt += cost_sol[edge_values]\n",
    "            OD_tt_paths.append(path_tt)\n",
    "\n",
    "        #Store max and min paths per OD pair\n",
    "        path_OD_max = max(OD_tt_paths)\n",
    "        path_OD_min = min(OD_tt_paths)\n",
    "        \n",
    "        #Find ratio of max and min\n",
    "        if path_OD_max-path_OD_min>0.001:\n",
    "            path_OD_beta = path_OD_max/path_OD_min\n",
    "        else:\n",
    "            path_OD_beta = 1\n",
    "        \n",
    "        beta_val.append(path_OD_beta)\n",
    "        \n",
    "    #Find percentile value of beta for this value of alpha\n",
    "    beta_new_val = [item for item, count in zip(beta_val, OD_arr__) for i in range(count)]\n",
    "    beta_dist = np.percentile(beta_new_val, percentile_val)\n",
    "\n",
    "    #Find maximum value of beta for this value of alpha\n",
    "    beta = max(beta_val) \n",
    "    final_beta.append(beta)\n",
    "    percentile_beta.append(beta_dist)"
   ]
  },
  {
   "cell_type": "code",
   "execution_count": 4,
   "metadata": {},
   "outputs": [
    {
     "data": {
      "text/plain": [
       "Text(0, 0.5, 'C(x)/C(SO)')"
      ]
     },
     "execution_count": 4,
     "metadata": {},
     "output_type": "execute_result"
    }
   ],
   "source": [
    "import matplotlib.pyplot as plt\n",
    "alpha_vals_plot = [float(i) for i in alpha_values]\n",
    "plt.plot(alpha_values, total_cost/total_cost[-1])\n",
    "plt.xlabel(r'$\\alpha$')\n",
    "plt.ylabel('C(x)/C(SO)')"
   ]
  },
  {
   "cell_type": "code",
   "execution_count": 5,
   "metadata": {},
   "outputs": [
    {
     "data": {
      "text/plain": [
       "Text(0, 0.5, '$\\\\beta$')"
      ]
     },
     "execution_count": 5,
     "metadata": {},
     "output_type": "execute_result"
    },
    {
     "data": {
      "image/png": "[encoded data removed]",
      "text/plain": [
       "<Figure size 432x288 with 1 Axes>"
      ]
     },
     "metadata": {
      "needs_background": "light"
     },
     "output_type": "display_data"
    }
   ],
   "source": [
    "plt.plot(alpha_values, final_beta)\n",
    "plt.xlabel(r'$\\alpha$')\n",
    "plt.ylabel(r'$\\beta$')"
   ]
  },
  {
   "cell_type": "code",
   "execution_count": 6,
   "metadata": {},
   "outputs": [
    {
     "data": {
      "text/plain": [
       "Text(0, 0.5, 'C(x)/C(SO)')"
      ]
     },
     "execution_count": 6,
     "metadata": {},
     "output_type": "execute_result"
    },
    {
     "data": {
      "image/png": "[encoded data removed]",
      "text/plain": [
       "<Figure size 432x288 with 1 Axes>"
      ]
     },
     "metadata": {
      "needs_background": "light"
     },
     "output_type": "display_data"
    }
   ],
   "source": [
    "plt.plot(final_beta, total_cost/total_cost[-1])\n",
    "plt.xlabel('Level of Fairness {}th Percentile'.format(100))\n",
    "plt.ylabel('C(x)/C(SO)')"
   ]
  },
  {
   "cell_type": "code",
   "execution_count": 7,
   "metadata": {},
   "outputs": [
    {
     "data": {
      "text/plain": [
       "Text(0, 0.5, '$\\\\beta$')"
      ]
     },
     "execution_count": 7,
     "metadata": {},
     "output_type": "execute_result"
    },
    {
     "data": {
      "image/png": "[encoded data removed]",
      "text/plain": [
       "<Figure size 432x288 with 1 Axes>"
      ]
     },
     "metadata": {
      "needs_background": "light"
     },
     "output_type": "display_data"
    }
   ],
   "source": [
    "plt.plot(alpha_values, percentile_beta)\n",
    "plt.xlabel(r'$\\alpha$')\n",
    "plt.ylabel(r'$\\beta$')"
   ]
  },
  {
   "cell_type": "code",
   "execution_count": 8,
   "metadata": {},
   "outputs": [
    {
     "data": {
      "text/plain": [
       "Text(0, 0.5, 'C(x)/C(SO)')"
      ]
     },
     "execution_count": 8,
     "metadata": {},
     "output_type": "execute_result"
    },
    {
     "data": {
      "image/png": "[encoded data removed]",
      "text/plain": [
       "<Figure size 432x288 with 1 Axes>"
      ]
     },
     "metadata": {
      "needs_background": "light"
     },
     "output_type": "display_data"
    }
   ],
   "source": [
    "plt.plot(percentile_beta, total_cost/total_cost[-1])\n",
    "plt.xlabel('Level of Fairness {}th Percentile'.format(100))\n",
    "plt.ylabel('C(x)/C(SO)')"
   ]
  },
  {
   "cell_type": "code",
   "execution_count": null,
   "metadata": {},
   "outputs": [],
   "source": []
  }
 ],
 "metadata": {
  "kernelspec": {
   "display_name": "Python 3",
   "language": "python",
   "name": "python3"
  },
  "language_info": {
   "codemirror_mode": {
    "name": "ipython",
    "version": 3
   },
   "file_extension": ".py",
   "mimetype": "text/x-python",
   "name": "python",
   "nbconvert_exporter": "python",
   "pygments_lexer": "ipython3",
   "version": "3.7.3"
  }
 },
 "nbformat": 4,
 "nbformat_minor": 2
}
