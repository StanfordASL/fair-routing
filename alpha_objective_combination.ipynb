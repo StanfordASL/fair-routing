{
 "cells": [
  {
   "cell_type": "code",
   "execution_count": 1,
   "metadata": {},
   "outputs": [],
   "source": [
    "#Import relevant modules\n",
    "import numpy as np\n",
    "import pandas as pd\n",
    "import zipfile"
   ]
  },
  {
   "cell_type": "code",
   "execution_count": 2,
   "metadata": {},
   "outputs": [],
   "source": [
    "city_name = 'Anaheim'\n",
    "percentile_val = 98\n",
    "main_zip = 'Alpha_Objective/' + city_name + '/' + city_name + '-'\n",
    "main_zip_loc = 'Alpha_Objective/' + city_name + '/'\n",
    "edges_file = 'Locations/' + city_name + '/edges.csv'\n",
    "new_folder = 'Alpha_Objective'\n",
    "specific_city = city_name + '.zip'\n",
    "od_file = 'Locations/' + city_name + '/od.csv'"
   ]
  },
  {
   "cell_type": "code",
   "execution_count": 3,
   "metadata": {},
   "outputs": [],
   "source": [
    "with zipfile.ZipFile(specific_city, 'r') as zip_ref:\n",
    "    zip_ref.extractall(new_folder)"
   ]
  },
  {
   "cell_type": "code",
   "execution_count": 4,
   "metadata": {
    "scrolled": true
   },
   "outputs": [
    {
     "name": "stdout",
     "output_type": "stream",
     "text": [
      "0\n"
     ]
    },
    {
     "name": "stderr",
     "output_type": "stream",
     "text": [
      "/Users/devanshjalota/anaconda3/lib/python3.7/site-packages/ipykernel_launcher.py:49: ParserWarning: Falling back to the 'python' engine because the 'c' engine does not support regex separators (separators > 1 char and different from '\\s+' are interpreted as regex); you can avoid this warning by specifying engine='python'.\n",
      "/Users/devanshjalota/anaconda3/lib/python3.7/site-packages/ipykernel_launcher.py:67: FutureWarning: arrays to stack must be passed as a \"sequence\" type such as list or tuple. Support for non-sequence iterables such as generators is deprecated as of NumPy 1.16 and will raise an error in the future.\n"
     ]
    },
    {
     "name": "stdout",
     "output_type": "stream",
     "text": [
      ".05\n",
      ".10\n",
      ".15\n",
      ".20\n",
      ".25\n",
      ".30\n",
      ".35\n",
      ".40\n",
      ".45\n",
      ".50\n",
      ".55\n",
      ".60\n",
      ".65\n",
      ".70\n",
      ".75\n",
      ".80\n",
      ".85\n",
      ".90\n",
      ".95\n",
      "1.00\n"
     ]
    }
   ],
   "source": [
    "alpha_values = ['0', '.05', '.10', '.15', '.20', '.25', '.30', '.35', '.40', '.45', '.50',\n",
    "               '.55', '.60', '.65', '.70', '.75', '.80', '.85', '.90', '.95', '1.00']\n",
    "\n",
    "#Edges Data\n",
    "edges = pd.read_csv(edges_file)\n",
    "edges_arr = np.array(edges)\n",
    "edges_arr = np.c_[edges_arr, np.array(range(len(edges)))]\n",
    "\n",
    "OD_mat = pd.read_csv(od_file)\n",
    "OD_arr__ = OD_mat['volume'].values\n",
    "\n",
    "total_cost = []\n",
    "final_beta = []\n",
    "percentile_beta = []\n",
    "for alpha_val in alpha_values:\n",
    "    print(alpha_val)\n",
    "    with zipfile.ZipFile(main_zip+alpha_val+'.zip', 'r') as zip_ref:\n",
    "        zip_ref.extractall(main_zip_loc)\n",
    "        \n",
    "    df_flow = pd.read_csv(main_zip+alpha_val+'/flow.csv', skiprows = 1)\n",
    "    actual_cost = np.array(df_flow['actualCost'])\n",
    "    flow = np.array(df_flow['flow'])\n",
    "    total_cost.append(sum([actual_cost[i]*flow[i] for i in range(len(actual_cost))]))\n",
    "    \n",
    "\n",
    "    flow_arr = np.array(df_flow)\n",
    "\n",
    "    def find_edge2(tail_, head_):\n",
    "        '''Finds edge index for given edge'''\n",
    "\n",
    "        edges_filtered = edges_arr[edges_arr[:, 0] == tail_]\n",
    "        edges_filtered = edges_filtered[edges_filtered[:, 1] == head_]\n",
    "\n",
    "        return edges_filtered[0, -1]\n",
    "\n",
    "    #Update Flow data\n",
    "    edge_num_arr = []\n",
    "    for j in df_flow.index:\n",
    "        tail_value = int(flow_arr[j, 1])\n",
    "        head_value = int(flow_arr[j, 2])\n",
    "        edge_num_arr.append(find_edge2(tail_value, head_value))\n",
    "\n",
    "    flow_arr = np.c_[flow_arr, edge_num_arr]\n",
    "    flow_arr = flow_arr[flow_arr[:,-1].argsort()]\n",
    "    \n",
    "    cost_sol = flow_arr[:, 4]\n",
    "    cost_sol = np.array([float(i) for i in cost_sol])\n",
    "    \n",
    "    paths_df = pd.read_csv(main_zip+alpha_val+'/paths.csv', sep='delimiter', header=None)\n",
    "    paths_df = paths_df.iloc[2:]\n",
    "    paths_df = paths_df[0].str.split(',', 2, expand = True)\n",
    "    paths_arr = np.array(paths_df)\n",
    "    \n",
    "    weights_df = pd.read_csv(main_zip+alpha_val+'/weights.csv', skiprows = 1)\n",
    "    weights_df_arr = np.array(weights_df)\n",
    "\n",
    "    #Check if weight is at least 1/10th of the maximum weight\n",
    "    small_arr = []\n",
    "    for i in range(len(weights_df_arr)):\n",
    "        if weights_df_arr[i, 1] > max(weights_df_arr[:, 1])/10:\n",
    "            small_arr.append(i)\n",
    "\n",
    "    paths_arr[:, 0] = [int(i) for i in paths_arr[:, 0]]\n",
    "    #paths_arr_ue = np.append(paths_arr_ue, np.array(weig), axis=1)\n",
    "    paths_arr = paths_arr[paths_arr[:, 0]>=min(small_arr)]\n",
    "    paths_arr_new = paths_arr[:, 1:]\n",
    "    paths_arr_new = np.vstack({tuple(row) for row in paths_arr_new})\n",
    "    \n",
    "    beta_val = []\n",
    "    for OD_pair in range(int(paths_arr[-1, 1])):\n",
    "        OD_arr = paths_arr_new[paths_arr_new[:, 0] == str(OD_pair)]\n",
    "        all_paths_OD = []\n",
    "        OD_tt_paths = []\n",
    "        for path_idx, path_val in enumerate(OD_arr[:, 1]):\n",
    "            all_edges = path_val.split(',')\n",
    "            all_edges = [int(i) for i in all_edges]\n",
    "            list_edges = []\n",
    "            path_tt = 0\n",
    "            for edge_values in all_edges:\n",
    "                list_edges.append(edge_values)\n",
    "                path_tt += cost_sol[edge_values]\n",
    "            OD_tt_paths.append(path_tt)\n",
    "\n",
    "        #Store max and min paths per OD pair\n",
    "        path_OD_max = max(OD_tt_paths)\n",
    "        path_OD_min = min(OD_tt_paths)\n",
    "\n",
    "        #Find ratio of max and min\n",
    "        path_OD_beta = path_OD_max/path_OD_min\n",
    "        beta_val.append(path_OD_beta)\n",
    "        \n",
    "        #Find percentile value of beta for this value of alpha\n",
    "    beta_new_val = [item for item, count in zip(beta_val, OD_arr__) for i in range(count)]\n",
    "    beta_dist = np.percentile(beta_new_val, percentile_val)\n",
    "\n",
    "    #Find maximum value of beta for this value of alpha\n",
    "    beta = max(beta_val) \n",
    "    final_beta.append(beta)\n",
    "    percentile_beta.append(beta_dist)"
   ]
  },
  {
   "cell_type": "code",
   "execution_count": 5,
   "metadata": {},
   "outputs": [
    {
     "data": {
      "text/plain": [
       "Text(0, 0.5, 'Total Travel Time')"
      ]
     },
     "execution_count": 5,
     "metadata": {},
     "output_type": "execute_result"
    }
   ],
   "source": [
    "import matplotlib.pyplot as plt\n",
    "alpha_vals_plot = [float(i) for i in alpha_values]\n",
    "plt.plot(alpha_values, total_cost)\n",
    "plt.xlabel(r'$\\alpha$')\n",
    "plt.ylabel('Total Travel Time')"
   ]
  },
  {
   "cell_type": "code",
   "execution_count": 6,
   "metadata": {},
   "outputs": [
    {
     "data": {
      "text/plain": [
       "Text(0, 0.5, '$\\\\beta$')"
      ]
     },
     "execution_count": 6,
     "metadata": {},
     "output_type": "execute_result"
    },
    {
     "data": {
      "image/png": "[encoded data removed]",
      "text/plain": [
       "<Figure size 432x288 with 1 Axes>"
      ]
     },
     "metadata": {
      "needs_background": "light"
     },
     "output_type": "display_data"
    }
   ],
   "source": [
    "plt.plot(alpha_values, final_beta)\n",
    "plt.xlabel(r'$\\alpha$')\n",
    "plt.ylabel(r'$\\beta$')"
   ]
  },
  {
   "cell_type": "code",
   "execution_count": 7,
   "metadata": {},
   "outputs": [
    {
     "data": {
      "text/plain": [
       "Text(0, 0.5, 'Total Travel Time')"
      ]
     },
     "execution_count": 7,
     "metadata": {},
     "output_type": "execute_result"
    },
    {
     "data": {
      "image/png": "[encoded data removed]",
      "text/plain": [
       "<Figure size 432x288 with 1 Axes>"
      ]
     },
     "metadata": {
      "needs_background": "light"
     },
     "output_type": "display_data"
    }
   ],
   "source": [
    "plt.plot(final_beta, total_cost)\n",
    "plt.xlabel('Level of Fairness {}th Percentile'.format(100))\n",
    "plt.ylabel('Total Travel Time')"
   ]
  },
  {
   "cell_type": "code",
   "execution_count": 8,
   "metadata": {},
   "outputs": [
    {
     "data": {
      "text/plain": [
       "Text(0, 0.5, '$\\\\beta$')"
      ]
     },
     "execution_count": 8,
     "metadata": {},
     "output_type": "execute_result"
    },
    {
     "data": {
      "image/png": "[encoded data removed]",
      "text/plain": [
       "<Figure size 432x288 with 1 Axes>"
      ]
     },
     "metadata": {
      "needs_background": "light"
     },
     "output_type": "display_data"
    }
   ],
   "source": [
    "plt.plot(alpha_values, percentile_beta)\n",
    "plt.xlabel(r'$\\alpha$')\n",
    "plt.ylabel(r'$\\beta$')"
   ]
  },
  {
   "cell_type": "code",
   "execution_count": 9,
   "metadata": {},
   "outputs": [
    {
     "data": {
      "text/plain": [
       "Text(0, 0.5, 'Total Travel Time')"
      ]
     },
     "execution_count": 9,
     "metadata": {},
     "output_type": "execute_result"
    },
    {
     "data": {
      "image/png": "[encoded data removed]",
      "text/plain": [
       "<Figure size 432x288 with 1 Axes>"
      ]
     },
     "metadata": {
      "needs_background": "light"
     },
     "output_type": "display_data"
    }
   ],
   "source": [
    "plt.plot(percentile_beta, total_cost)\n",
    "plt.xlabel('Level of Fairness {}th Percentile'.format(100))\n",
    "plt.ylabel('Total Travel Time')"
   ]
  },
  {
   "cell_type": "code",
   "execution_count": null,
   "metadata": {},
   "outputs": [],
   "source": []
  },
  {
   "cell_type": "code",
   "execution_count": null,
   "metadata": {},
   "outputs": [],
   "source": []
  }
 ],
 "metadata": {
  "kernelspec": {
   "display_name": "Python 3",
   "language": "python",
   "name": "python3"
  },
  "language_info": {
   "codemirror_mode": {
    "name": "ipython",
    "version": 3
   },
   "file_extension": ".py",
   "mimetype": "text/x-python",
   "name": "python",
   "nbconvert_exporter": "python",
   "pygments_lexer": "ipython3",
   "version": "3.7.3"
  }
 },
 "nbformat": 4,
 "nbformat_minor": 2
}
